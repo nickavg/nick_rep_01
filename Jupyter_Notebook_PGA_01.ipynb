{
 "cells": [
  {
   "cell_type": "markdown",
   "metadata": {},
   "source": [
    "<center>\n",
    "    <img src=\"https://s3-api.us-geo.objectstorage.softlayer.net/cf-courses-data/CognitiveClass/Logos/organization_logo/organization_logo.png\" width=\"300\" alt=\"cognitiveclass.ai logo\"  />\n",
    "</center>\n"
   ]
  },
  {
   "cell_type": "markdown",
   "metadata": {},
   "source": [
    "#### Add your code below following the instructions given in the course\n"
   ]
  },
  {
   "cell_type": "markdown",
   "metadata": {},
   "source": [
    "# My Jupyter Notebook on IBM Watson Studio"
   ]
  },
  {
   "cell_type": "markdown",
   "metadata": {},
   "source": [
    "***"
   ]
  },
  {
   "cell_type": "markdown",
   "metadata": {},
   "source": [
    "**Nick Villarreal**"
   ]
  },
  {
   "cell_type": "markdown",
   "metadata": {},
   "source": [
    "I am looking for my Dream Job"
   ]
  },
  {
   "cell_type": "markdown",
   "metadata": {},
   "source": [
    "*I am interested in data science because I think is a good complement for a Data Professional*"
   ]
  },
  {
   "cell_type": "markdown",
   "metadata": {},
   "source": [
    "### Next line of code prints \"Hello World\""
   ]
  },
  {
   "cell_type": "markdown",
   "metadata": {},
   "source": [
    "***"
   ]
  },
  {
   "cell_type": "code",
   "execution_count": 3,
   "metadata": {},
   "outputs": [
    {
     "name": "stdout",
     "output_type": "stream",
     "text": [
      "Hello World\n"
     ]
    }
   ],
   "source": [
    "print(\"Hello World\")"
   ]
  },
  {
   "cell_type": "markdown",
   "metadata": {},
   "source": [
    "***\n",
    "* Peer Graded Assigmenment\n",
    "* Skills Network Labs\n",
    "* Jupyter Notebook\n",
    "***\n",
    "1. Peer Graded Assignment\n",
    "1. Skills Network Labs\n",
    "1. Jupyter Notebook\n",
    "***\n",
    "| Peer Graded Assignment | Skills Network Labs | Jupiter Notebook |\n",
    "|------------------------|---------------------|------------------|\n",
    "| These are              | awsome              | tools            |\n",
    "***\n",
    "•\t<div class=\"alert alert-block alert-info\">\n",
    "### •\t<b>Heads Up!:</b>\n",
    "### You can find IBM web site here __[IBM web site](http://www.ibm.com)__\n",
    "</div>\n",
    "\n",
    "***"
   ]
  }
 ],
 "metadata": {
  "kernelspec": {
   "display_name": "Python",
   "language": "python",
   "name": "conda-env-python-py"
  },
  "language_info": {
   "codemirror_mode": {
    "name": "ipython",
    "version": 3
   },
   "file_extension": ".py",
   "mimetype": "text/x-python",
   "name": "python",
   "nbconvert_exporter": "python",
   "pygments_lexer": "ipython3",
   "version": "3.7.12"
  },
  "vscode": {
   "interpreter": {
    "hash": "8c94b101bef2d278831e7ec00ee29dd730a1e6285a5062109079357a7d28d2c0"
   }
  }
 },
 "nbformat": 4,
 "nbformat_minor": 4
}
